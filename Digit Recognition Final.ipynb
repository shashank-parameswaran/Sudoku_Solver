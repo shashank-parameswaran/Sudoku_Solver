{
 "cells": [
  {
   "cell_type": "code",
   "execution_count": 6,
   "metadata": {
    "ExecuteTime": {
     "end_time": "2022-09-22T20:42:48.591651Z",
     "start_time": "2022-09-22T20:42:48.557723Z"
    }
   },
   "outputs": [],
   "source": [
    "# Import necessary libraries\n",
    "import os\n",
    "from keras.datasets import mnist\n",
    "from keras.models import Sequential, load_model\n",
    "from keras.layers.core import Dense, Dropout, Activation\n",
    "from keras.utils import np_utils\n",
    "import matplotlib.pyplot as plt\n",
    "import numpy as np\n",
    "from PIL import Image, ImageFilter\n",
    "import glob\n",
    "import os\n",
    "import cv2\n",
    "from PIL import Image, ImageOps\n",
    "import math\n",
    "import pandas as pd\n",
    "from sklearn. model_selection import train_test_split\n",
    "\n",
    "from PIL import Image\n",
    "from PIL import ImageFont\n",
    "from PIL import ImageDraw\n",
    "\n",
    "import glob\n",
    "import random"
   ]
  },
  {
   "cell_type": "code",
   "execution_count": 7,
   "metadata": {
    "ExecuteTime": {
     "end_time": "2022-09-22T20:42:49.155699Z",
     "start_time": "2022-09-22T20:42:49.147720Z"
    }
   },
   "outputs": [],
   "source": [
    "\n",
    "from scipy import ndimage\n",
    "from keras.datasets import mnist\n",
    "from keras.models import Sequential\n",
    "from keras.layers import Dense\n",
    "from keras.layers import Dropout\n",
    "from keras.layers import Flatten\n",
    "from keras.layers.convolutional import Conv2D\n",
    "from keras.layers.convolutional import MaxPooling2D\n",
    "from keras.utils import np_utils\n",
    "from PIL import Image, ImageOps"
   ]
  },
  {
   "cell_type": "code",
   "execution_count": 8,
   "metadata": {
    "ExecuteTime": {
     "end_time": "2022-09-22T20:42:49.785640Z",
     "start_time": "2022-09-22T20:42:49.772643Z"
    }
   },
   "outputs": [],
   "source": [
    "os.chdir(\"C:\\Data Science Projects\\Digit Recognition\\sudoku dataset\")"
   ]
  },
  {
   "cell_type": "code",
   "execution_count": 3,
   "metadata": {
    "ExecuteTime": {
     "end_time": "2022-09-22T20:46:28.927534Z",
     "start_time": "2022-09-22T20:46:28.226624Z"
    }
   },
   "outputs": [],
   "source": [
    "from torch.utils.data import Dataset\n",
    "\n",
    "import torch\n",
    "\n",
    "from PIL import Image\n",
    "from PIL import ImageFont\n",
    "from PIL import ImageDraw\n",
    "\n",
    "import glob\n",
    "import random\n",
    "\n",
    "\n",
    "class PrintedMNIST(Dataset):\n",
    "    \"\"\"Generates images containing a single digit from font\"\"\"\n",
    "\n",
    "    def __init__(self, N, random_state, transform=None):\n",
    "        \"\"\"\"\"\"\n",
    "        self.N = N\n",
    "        self.random_state = random_state\n",
    "        self.transform = transform\n",
    "\n",
    "        fonts_folder = \"fonts\"\n",
    "\n",
    "        # self.fonts = [\"Helvetica-Bold-Font.ttf\", 'arial-bold.ttf']\n",
    "        self.fonts = glob.glob(fonts_folder + \"/*.ttf\")\n",
    "\n",
    "        random.seed(random_state)\n",
    "\n",
    "    def __len__(self):\n",
    "        return self.N\n",
    "\n",
    "    def __getitem__(self, idx):\n",
    "\n",
    "        target = random.randint(0, 9)\n",
    "\n",
    "        size = random.randint(150, 250)\n",
    "        x = random.randint(30, 90)\n",
    "        y = random.randint(30, 90)\n",
    "\n",
    "        color = random.randint(200, 255)\n",
    "\n",
    "        # Generate image\n",
    "        img = Image.new(\"L\", (256, 256))\n",
    "\n",
    "        target = random.randint(0, 9)\n",
    "\n",
    "        size = random.randint(150, 250)\n",
    "        x = random.randint(30, 90)\n",
    "        y = random.randint(30, 90)\n",
    "\n",
    "        draw = ImageDraw.Draw(img)\n",
    "        font = ImageFont.truetype(random.choice(self.fonts), size)\n",
    "        draw.text((x, y), str(target), color, font=font)\n",
    "\n",
    "        img = img.resize((28, 28), Image.BILINEAR)\n",
    "\n",
    "        if self.transform:\n",
    "            img = self.transform(img)\n",
    "\n",
    "        return img, target"
   ]
  },
  {
   "cell_type": "code",
   "execution_count": 7,
   "metadata": {
    "ExecuteTime": {
     "end_time": "2022-09-22T20:47:36.615708Z",
     "start_time": "2022-09-22T20:47:36.608727Z"
    }
   },
   "outputs": [],
   "source": [
    "fonts_folder = \"C:\\Windows\\Fonts\"\n",
    "fonts = glob.glob(fonts_folder + \"/*.ttf\")"
   ]
  },
  {
   "cell_type": "code",
   "execution_count": 10,
   "metadata": {
    "ExecuteTime": {
     "end_time": "2022-09-22T20:50:02.684217Z",
     "start_time": "2022-09-22T20:50:02.672091Z"
    }
   },
   "outputs": [],
   "source": [
    "import os\n",
    "os.chdir(fonts_folder)"
   ]
  },
  {
   "cell_type": "code",
   "execution_count": 11,
   "metadata": {
    "ExecuteTime": {
     "end_time": "2022-09-22T20:50:03.458464Z",
     "start_time": "2022-09-22T20:50:03.425360Z"
    }
   },
   "outputs": [
    {
     "ename": "FileNotFoundError",
     "evalue": "[Errno 2] No such file or directory: '.ttf'",
     "output_type": "error",
     "traceback": [
      "\u001b[1;31m---------------------------------------------------------------------------\u001b[0m",
      "\u001b[1;31mFileNotFoundError\u001b[0m                         Traceback (most recent call last)",
      "Input \u001b[1;32mIn [11]\u001b[0m, in \u001b[0;36m<cell line: 2>\u001b[1;34m()\u001b[0m\n\u001b[0;32m      1\u001b[0m \u001b[38;5;28;01mfrom\u001b[39;00m \u001b[38;5;21;01mfontTools\u001b[39;00m\u001b[38;5;21;01m.\u001b[39;00m\u001b[38;5;21;01mttLib\u001b[39;00m \u001b[38;5;28;01mimport\u001b[39;00m TTFont\n\u001b[1;32m----> 2\u001b[0m font \u001b[38;5;241m=\u001b[39m \u001b[43mTTFont\u001b[49m\u001b[43m(\u001b[49m\u001b[38;5;124;43m'\u001b[39;49m\u001b[38;5;124;43m.ttf\u001b[39;49m\u001b[38;5;124;43m'\u001b[39;49m\u001b[43m)\u001b[49m\n\u001b[0;32m      3\u001b[0m random\u001b[38;5;241m.\u001b[39mseed(random_state)\n",
      "File \u001b[1;32mC:\\ProgramData\\Anaconda3\\envs\\tf\\lib\\site-packages\\fontTools\\ttLib\\ttFont.py:130\u001b[0m, in \u001b[0;36mTTFont.__init__\u001b[1;34m(self, file, res_name_or_index, sfntVersion, flavor, checkChecksums, verbose, recalcBBoxes, allowVID, ignoreDecompileErrors, recalcTimestamp, fontNumber, lazy, quiet, _tableCache, cfg)\u001b[0m\n\u001b[0;32m    128\u001b[0m \t\t\tfile \u001b[38;5;241m=\u001b[39m macUtils\u001b[38;5;241m.\u001b[39mSFNTResourceReader(file, res_name_or_index)\n\u001b[0;32m    129\u001b[0m \t\u001b[38;5;28;01melse\u001b[39;00m:\n\u001b[1;32m--> 130\u001b[0m \t\tfile \u001b[38;5;241m=\u001b[39m \u001b[38;5;28;43mopen\u001b[39;49m\u001b[43m(\u001b[49m\u001b[43mfile\u001b[49m\u001b[43m,\u001b[49m\u001b[43m \u001b[49m\u001b[38;5;124;43m\"\u001b[39;49m\u001b[38;5;124;43mrb\u001b[39;49m\u001b[38;5;124;43m\"\u001b[39;49m\u001b[43m)\u001b[49m\n\u001b[0;32m    131\u001b[0m \u001b[38;5;28;01melse\u001b[39;00m:\n\u001b[0;32m    132\u001b[0m \t\u001b[38;5;66;03m# assume \"file\" is a readable file object\u001b[39;00m\n\u001b[0;32m    133\u001b[0m \tcloseStream \u001b[38;5;241m=\u001b[39m \u001b[38;5;28;01mFalse\u001b[39;00m\n",
      "\u001b[1;31mFileNotFoundError\u001b[0m: [Errno 2] No such file or directory: '.ttf'"
     ]
    }
   ],
   "source": [
    "from fontTools.ttLib import TTFont"
   ]
  },
  {
   "cell_type": "code",
   "execution_count": null,
   "metadata": {},
   "outputs": [],
   "source": [
    "def get_font_image():\n",
    "    fonts_folder = \"C:\\Windows\\Fonts\"\n",
    "    fonts = glob.glob(fonts_folder + \"/*.ttf\")\n",
    "\n",
    "    color = random.randint(200, 255)\n",
    "\n",
    "    # Generate image\n",
    "    img = Image.new(\"L\", (256, 256))\n",
    "\n",
    "    target = random.randint(0, 9)\n",
    "\n",
    "    size = random.randint(130, 180)\n",
    "    x = random.randint(30, 90)\n",
    "    y = random.randint(30, 90)\n",
    "\n",
    "    draw = ImageDraw.Draw(img)\n",
    "    font = ImageFont.truetype(random.choice(fonts), size)\n",
    "    draw.text((x, y), str(target), color, font=font, align='center')\n",
    "\n",
    "    img = img.resize((28, 28), Image.BILINEAR)\n",
    "    img = ImageOps.invert(img)\n",
    "    #print(size, x, y, color)\n",
    "    return(img, target)\n",
    "    \n",
    "\n"
   ]
  },
  {
   "cell_type": "code",
   "execution_count": null,
   "metadata": {},
   "outputs": [],
   "source": [
    "image, target = get_font_image()\n",
    "display(image)\n",
    "image = image_convert(image)\n",
    "#display(Image.fromarray(np.uint8(image)))"
   ]
  },
  {
   "cell_type": "code",
   "execution_count": null,
   "metadata": {},
   "outputs": [],
   "source": [
    "os.chdir(\"C:\\Data Science Projects\\Digit Recognition\\sudoku dataset\\Custom Digits Dataset\")\n",
    "root_folder = 'C:\\Data Science Projects\\Digit Recognition\\sudoku dataset\\Custom Digits Dataset'\n",
    "for i in range(10000, 20000):\n",
    "    if i%1000 == 0:\n",
    "        print(i)\n",
    "    image, target = get_font_image()\n",
    "    #display(image)\n",
    "    pic_folder = root_folder + \"\\\\\" + str(target)\n",
    "    os.chdir(pic_folder)\n",
    "    image_name = \"img\" + str(i) + \".png\"\n",
    "    #print(pic_folder)\n",
    "    try:\n",
    "        image = image_convert(image)\n",
    "        cv2.imwrite(image_name, image)\n",
    "    except:\n",
    "        pass"
   ]
  },
  {
   "cell_type": "code",
   "execution_count": 9,
   "metadata": {
    "ExecuteTime": {
     "end_time": "2022-09-22T20:42:50.334446Z",
     "start_time": "2022-09-22T20:42:50.320488Z"
    }
   },
   "outputs": [],
   "source": [
    "def get_acc(actual_sol_file, sudoku_sol):\n",
    "    actual_sol = pd.read_csv(actual_sol_file).to_numpy()\n",
    "    actual_sol = actual_sol[:,1:]\n",
    "    counter=0\n",
    "    for i in range(9):\n",
    "        for j in range(9):\n",
    "            if sudoku_sol[i,j] == actual_sol[i,j]:\n",
    "                counter+=1\n",
    "    print(\"accuracy: \", counter/81)\n",
    "    \n",
    "\n",
    "def getBestShift(img):\n",
    "    cy,cx = ndimage.measurements.center_of_mass(img)\n",
    "\n",
    "    rows,cols = img.shape\n",
    "    shiftx = np.round(cols/2.0-cx).astype(int)\n",
    "    shifty = np.round(rows/2.0-cy).astype(int)\n",
    "\n",
    "    return shiftx,shifty\n",
    "\n",
    "def shift(img,sx,sy):\n",
    "    rows,cols = img.shape\n",
    "    M = np.float32([[1,0,sx],[0,1,sy]])\n",
    "    shifted = cv2.warpAffine(img,M,(cols,rows))\n",
    "    return shifted\n",
    "\n",
    "def show(image_np):\n",
    "    display(Image.fromarray(np.uint8(image_np)))\n",
    "    \n"
   ]
  },
  {
   "cell_type": "code",
   "execution_count": 10,
   "metadata": {
    "ExecuteTime": {
     "end_time": "2022-09-22T20:42:50.895520Z",
     "start_time": "2022-09-22T20:42:50.875574Z"
    }
   },
   "outputs": [],
   "source": [
    "def impute_zero():\n",
    "\n",
    "    \n",
    "    color = 255\n",
    "    font_type = 'C:\\\\Windows\\\\Fonts\\\\calibri.ttf'\n",
    "    img = Image.new(\"L\", (256,256))\n",
    "\n",
    "    target = 0\n",
    "\n",
    "    size = 225\n",
    "    x = 50\n",
    "    y = 25\n",
    "\n",
    "    draw = ImageDraw.Draw(img)\n",
    "    font = ImageFont.truetype(font_type, size)\n",
    "    draw.text((x, y), str(target), color, font=font)\n",
    "\n",
    "    img = img.resize((28, 28), Image.BILINEAR)\n",
    "    img = ImageOps.invert(img)\n",
    "    return(img)"
   ]
  },
  {
   "cell_type": "code",
   "execution_count": 11,
   "metadata": {
    "ExecuteTime": {
     "end_time": "2022-09-22T20:42:51.419502Z",
     "start_time": "2022-09-22T20:42:51.380571Z"
    }
   },
   "outputs": [
    {
     "name": "stderr",
     "output_type": "stream",
     "text": [
      "C:\\Users\\shash\\AppData\\Local\\Temp\\ipykernel_14352\\1871658312.py:15: DeprecationWarning: BILINEAR is deprecated and will be removed in Pillow 10 (2023-07-01). Use Resampling.BILINEAR instead.\n",
      "  img = img.resize((28, 28), Image.BILINEAR)\n",
      "C:\\Users\\shash\\AppData\\Local\\Temp\\ipykernel_14352\\2627194412.py:18: DeprecationWarning: BILINEAR is deprecated and will be removed in Pillow 10 (2023-07-01). Use Resampling.BILINEAR instead.\n",
      "  img = img.resize((28, 28), Image.BILINEAR)\n"
     ]
    }
   ],
   "source": [
    "color = 255\n",
    "font_type = 'C:\\\\Windows\\\\Fonts\\\\calibri.ttf'\n",
    "img = Image.new(\"L\", (256,256))\n",
    "\n",
    "target = 0\n",
    "\n",
    "size = 225\n",
    "x = 50\n",
    "y = 25\n",
    "\n",
    "draw = ImageDraw.Draw(img)\n",
    "font = ImageFont.truetype(font_type, size)\n",
    "draw.text((x, y), str(target), color, font=font)\n",
    "\n",
    "img = img.resize((28, 28), Image.BILINEAR)\n",
    "img = ImageOps.invert(img)\n",
    "\n",
    "\n",
    "img = impute_zero()\n",
    "image_np = np.array(img)\n",
    "ret,thresh_inv = cv2.threshold(image_np, 180, 255,cv2.THRESH_BINARY_INV)\n",
    "contours,hierarchy = cv2.findContours(thresh_inv, cv2.RETR_TREE, cv2.CHAIN_APPROX_SIMPLE)\n",
    "\n",
    "pos = []\n",
    "for c in contours:\n",
    "    x,y,w,h = cv2.boundingRect(c)\n",
    "    if (w < 23 and x > 2 and x<24) and (h < 25 and y > 2 and y<24):#multiplied each number by 9 due to the resized image\n",
    "    #pos = (x,y,x+w,y+h)\n",
    "        pos.append((x,y,x+w,y+h))\n",
    "        zero_img1 = thresh_inv[(pos[0][1]):(pos[0][3]),(pos[0][0]):(pos[0][2])]\n",
    "        \n"
   ]
  },
  {
   "cell_type": "code",
   "execution_count": 12,
   "metadata": {
    "ExecuteTime": {
     "end_time": "2022-09-22T20:42:52.385259Z",
     "start_time": "2022-09-22T20:42:52.363293Z"
    }
   },
   "outputs": [],
   "source": [
    "def image_convert(image, shift_1_0=1):\n",
    "    \n",
    "    image_np = np.asarray(image)\n",
    "    ret,thresh_inv = cv2.threshold(image_np, 180, 255,cv2.THRESH_BINARY_INV)\n",
    "    #isplay(Image.fromarray(np.uint8(thresh_inv)))\n",
    "    contours,hierarchy = cv2.findContours(thresh_inv, cv2.RETR_TREE, cv2.CHAIN_APPROX_SIMPLE)\n",
    "    img1 = np.zeros((1,1))\n",
    "    pos = []\n",
    "    \n",
    "    if len(contours) == 0:\n",
    "        img1 = zero_img1.copy()\n",
    "    \n",
    "    for c in contours:\n",
    "        x,y,w,h = cv2.boundingRect(c)\n",
    "        if (w < 23 and x > 2 and x<24) and (h < 25 and y > 2 and y<24):#multiplied each number by 9 due to the resized image\n",
    "        #pos = (x,y,x+w,y+h)\n",
    "            pos.append((x,y,x+w,y+h))\n",
    "            img1 = thresh_inv[(pos[0][1]):(pos[0][3]),(pos[0][0]):(pos[0][2])]\n",
    "            break\n",
    "        else:\n",
    "            img1 = zero_img1.copy()\n",
    "            \n",
    "\n",
    "    rows,cols = img1.shape\n",
    "    #print(rows, cols)\n",
    "\n",
    "    if rows > cols:\n",
    "        factor = 20.0/rows\n",
    "        rows = 20\n",
    "        cols = int(round(cols*factor))\n",
    "        img1 = cv2.resize(img1, (cols,rows))\n",
    "    else:\n",
    "        factor = 20.0/cols\n",
    "        cols = 20\n",
    "        rows = int(round(rows*factor))\n",
    "        img1 = cv2.resize(img1, (cols, rows))\n",
    "    #print(gray.shape)\n",
    "\n",
    "    colsPadding = (int(math.ceil((28-cols)/2.0)),int(math.floor((28-cols)/2.0)))\n",
    "    rowsPadding = (int(math.ceil((28-rows)/2.0)),int(math.floor((28-rows)/2.0)))\n",
    "    img1 = np.lib.pad(img1,(rowsPadding,colsPadding),'constant')\n",
    "    \n",
    "    \n",
    "    if shift_1_0 == 1:\n",
    "        shiftx,shifty = getBestShift(img1)\n",
    "        shifted = shift(img1,shiftx,shifty)\n",
    "        img1 = shifted\n",
    "    #display(Image.fromarray(np.uint8(img1)))\n",
    "    return(img1)\n",
    "    "
   ]
  },
  {
   "cell_type": "code",
   "execution_count": 13,
   "metadata": {
    "ExecuteTime": {
     "end_time": "2022-09-22T20:42:53.159631Z",
     "start_time": "2022-09-22T20:42:53.146635Z"
    }
   },
   "outputs": [],
   "source": [
    "def get_sudoku_digits(sudoku, show_image=1):\n",
    "    sudoku = Image.open(sudoku)\n",
    "    sudoku_sol = np.zeros((9,9))\n",
    "    pad = 0\n",
    "    for col in range(9):\n",
    "        for row in range(9):\n",
    "            left = col*sudoku.size[0]/9\n",
    "            top =  row*sudoku.size[0]/9\n",
    "\n",
    "            right = (col+1)*sudoku.size[0]/9\n",
    "            bottom = (row+1)*sudoku.size[0]/9\n",
    "\n",
    "            #image = sudoku.crop((left+pad, top+pad, right-pad, bottom-pad))\n",
    "            #print(left, top, right, bottom)\n",
    "            image = sudoku.crop((left, top, right, bottom))\n",
    "            image = image.resize((28,28))\n",
    "            image = ImageOps.grayscale(image)\n",
    "            if show_image==1:\n",
    "                display(image)\n",
    "            image = image_convert(image, shift_1_0=1)\n",
    "            #image = image_convert2(image)\n",
    "            image = np.reshape(image, (1,28,28,1))\n",
    "            if show_image==1:\n",
    "                print(np.argmax(model.predict(image)))\n",
    "            sudoku_sol[row][col] = np.argmax(model.predict(image))\n",
    "    return(sudoku_sol)"
   ]
  },
  {
   "cell_type": "code",
   "execution_count": 14,
   "metadata": {
    "ExecuteTime": {
     "end_time": "2022-09-22T20:42:53.601676Z",
     "start_time": "2022-09-22T20:42:53.591703Z"
    }
   },
   "outputs": [],
   "source": [
    "def solve_sudoku(sudoku_sol):\n",
    "    arr = sudoku_sol.astype(int).copy()\n",
    "    num_set = set([1,2,3,4,5,6,7,8,9])\n",
    "    while len(np.where(arr==0)[0]) > 0:\n",
    "        num = random.randint(0,(len(np.where(arr==0)[0])-1))\n",
    "        row = np.where(arr==0)[0][num]\n",
    "        col = np.where(arr==0)[1][num]\n",
    "\n",
    "        c1 = 3*(int(col/3))\n",
    "        c2 = c1 + 3\n",
    "\n",
    "        r1 = 3*(int(row/3))\n",
    "        r2 = r1 + 3\n",
    "\n",
    "        set1 = set(arr[row,:])\n",
    "        set2 = set(arr[:,col])\n",
    "        set3 = set(arr[r1:r2, c1:c2].flatten())\n",
    "\n",
    "        set4 = set1.union(set2,set3)\n",
    "        set4 = set4.difference({0})\n",
    "        val = num_set.difference(set4)\n",
    "\n",
    "\n",
    "        if len(val) == 1:\n",
    "            arr[row, col] = list(val)[0]\n",
    "    return(arr)\n",
    "    "
   ]
  },
  {
   "cell_type": "code",
   "execution_count": 15,
   "metadata": {
    "ExecuteTime": {
     "end_time": "2022-09-22T20:43:00.831168Z",
     "start_time": "2022-09-22T20:42:54.068387Z"
    }
   },
   "outputs": [
    {
     "name": "stdout",
     "output_type": "stream",
     "text": [
      "19959 19959\n"
     ]
    }
   ],
   "source": [
    "root_dir = 'C:\\Data Science Projects\\Digit Recognition\\sudoku dataset\\Custom Digits Dataset'\n",
    "Numbers = []\n",
    "Images = []\n",
    "for i in range(0,10):\n",
    "    #print(i)\n",
    "    sub_dir = root_dir + \"\\\\\" + str(i)\n",
    "    for filename in glob.iglob(sub_dir + '**/*.png', recursive=True):\n",
    "        #print(filename)\n",
    "        image = Image.open(filename)\n",
    "        #display(image)\n",
    "        #image = image.convert('L')\n",
    "        #image = image.resize((28,28))\n",
    "        image = np.asarray(image)\n",
    "        #image = image.astype('float32')\n",
    "        #image /= 255  \n",
    "        #image = image.reshape(784,)\n",
    "        Images.append([image])\n",
    "        Numbers.append([i])\n",
    "print(len(Numbers), len(Images))"
   ]
  },
  {
   "cell_type": "code",
   "execution_count": 11,
   "metadata": {},
   "outputs": [],
   "source": [
    "Images = np.array(Images)\n",
    "Numbers = np.array(Numbers)\n",
    "X_train, X_test, y_train, y_test = train_test_split(Images, Numbers, test_size=0.20, random_state=42)"
   ]
  },
  {
   "cell_type": "code",
   "execution_count": 12,
   "metadata": {},
   "outputs": [
    {
     "name": "stdout",
     "output_type": "stream",
     "text": [
      "(15967, 28, 28, 1) (15967, 10)\n",
      "(3992, 28, 28, 1) (3992, 10)\n"
     ]
    }
   ],
   "source": [
    "X_train = X_train.reshape(X_train.shape[0], 28, 28, 1).astype('float32')\n",
    "X_test = X_test.reshape(X_test.shape[0], 28, 28, 1).astype('float32')\n",
    "\n",
    "# normalize inputs from 0-255 to 0-1\n",
    "X_train = X_train / 255\n",
    "X_test = X_test / 255\n",
    "# one hot encode outputs\n",
    "y_train = np_utils.to_categorical(y_train)\n",
    "y_test = np_utils.to_categorical(y_test)\n",
    "num_classes = y_test.shape[1]\n",
    "\n",
    "print(X_train.shape, y_train.shape)\n",
    "print(X_test.shape, y_test.shape)"
   ]
  },
  {
   "cell_type": "code",
   "execution_count": 13,
   "metadata": {},
   "outputs": [],
   "source": [
    "model = Sequential()\n",
    "model.add(Conv2D(32, kernel_size=(3, 3), activation='relu', input_shape=(28, 28, 1)))\n",
    "model.add(Conv2D(64, (3, 3), activation='relu'))\n",
    "model.add(MaxPooling2D(pool_size=(2, 2)))\n",
    "model.add(Dropout(0.25))\n",
    "model.add(Flatten())\n",
    "model.add(Dense(128, activation='relu'))\n",
    "model.add(Dropout(0.5))\n",
    "model.add(Dense(10, activation='softmax'))\n",
    "model.compile(loss='categorical_crossentropy', optimizer='adam',  metrics=['accuracy'])\n",
    "batch_size = 128\n",
    "epochs = 10"
   ]
  },
  {
   "cell_type": "code",
   "execution_count": 14,
   "metadata": {},
   "outputs": [
    {
     "name": "stdout",
     "output_type": "stream",
     "text": [
      "Epoch 1/10\n",
      "125/125 - 16s - loss: 0.7737 - accuracy: 0.7715 - val_loss: 0.4218 - val_accuracy: 0.8655\n",
      "Epoch 2/10\n",
      "125/125 - 15s - loss: 0.4488 - accuracy: 0.8598 - val_loss: 0.3644 - val_accuracy: 0.8855\n",
      "Epoch 3/10\n",
      "125/125 - 15s - loss: 0.3742 - accuracy: 0.8794 - val_loss: 0.3175 - val_accuracy: 0.8970\n",
      "Epoch 4/10\n",
      "125/125 - 15s - loss: 0.3382 - accuracy: 0.8873 - val_loss: 0.3059 - val_accuracy: 0.8988\n",
      "Epoch 5/10\n",
      "125/125 - 15s - loss: 0.3069 - accuracy: 0.8965 - val_loss: 0.3065 - val_accuracy: 0.8955\n",
      "Epoch 6/10\n",
      "125/125 - 15s - loss: 0.2904 - accuracy: 0.8986 - val_loss: 0.2923 - val_accuracy: 0.9003\n",
      "Epoch 7/10\n",
      "125/125 - 15s - loss: 0.2810 - accuracy: 0.9041 - val_loss: 0.2755 - val_accuracy: 0.9056\n",
      "Epoch 8/10\n",
      "125/125 - 15s - loss: 0.2630 - accuracy: 0.9096 - val_loss: 0.2793 - val_accuracy: 0.9078\n",
      "Epoch 9/10\n",
      "125/125 - 15s - loss: 0.2538 - accuracy: 0.9100 - val_loss: 0.2798 - val_accuracy: 0.9048\n",
      "Epoch 10/10\n",
      "125/125 - 15s - loss: 0.2438 - accuracy: 0.9147 - val_loss: 0.2766 - val_accuracy: 0.9041\n",
      "CNN Error: 9.59%\n"
     ]
    }
   ],
   "source": [
    "\n",
    "model.fit(X_train, y_train, validation_data=(X_test, y_test), epochs=epochs, batch_size=batch_size, verbose=2)\n",
    "# Final evaluation of the model\n",
    "scores = model.evaluate(X_test, y_test, verbose=0)\n",
    "print(\"CNN Error: %.2f%%\" % (100-scores[1]*100))"
   ]
  },
  {
   "cell_type": "code",
   "execution_count": null,
   "metadata": {},
   "outputs": [],
   "source": [
    "# Save Model\n",
    "model_json = model.to_json()\n",
    "with open(\"model.json\", \"w\") as json_file:\n",
    "    json_file.write(model_json)\n",
    "# serialize weights to HDF5\n",
    "model.save_weights(\"sudoku_model.h5\")\n",
    "print(\"Saved model to disk\")"
   ]
  },
  {
   "cell_type": "code",
   "execution_count": null,
   "metadata": {},
   "outputs": [],
   "source": [
    "sudoku = Image.open('sudoku10.png')\n",
    "sudoku\n"
   ]
  },
  {
   "cell_type": "code",
   "execution_count": 9,
   "metadata": {},
   "outputs": [
    {
     "ename": "NameError",
     "evalue": "name 'sudoku' is not defined",
     "output_type": "error",
     "traceback": [
      "\u001b[1;31m---------------------------------------------------------------------------\u001b[0m",
      "\u001b[1;31mNameError\u001b[0m                                 Traceback (most recent call last)",
      "\u001b[1;32m<ipython-input-9-b8720f08b1aa>\u001b[0m in \u001b[0;36m<module>\u001b[1;34m\u001b[0m\n\u001b[0;32m      6\u001b[0m \u001b[0mcol\u001b[0m \u001b[1;33m=\u001b[0m \u001b[1;36m1\u001b[0m\u001b[1;33m\u001b[0m\u001b[1;33m\u001b[0m\u001b[0m\n\u001b[0;32m      7\u001b[0m \u001b[1;33m\u001b[0m\u001b[0m\n\u001b[1;32m----> 8\u001b[1;33m \u001b[0mleft\u001b[0m \u001b[1;33m=\u001b[0m \u001b[0mcol\u001b[0m\u001b[1;33m*\u001b[0m\u001b[0msudoku\u001b[0m\u001b[1;33m.\u001b[0m\u001b[0msize\u001b[0m\u001b[1;33m[\u001b[0m\u001b[1;36m0\u001b[0m\u001b[1;33m]\u001b[0m\u001b[1;33m/\u001b[0m\u001b[1;36m9\u001b[0m\u001b[1;33m\u001b[0m\u001b[1;33m\u001b[0m\u001b[0m\n\u001b[0m\u001b[0;32m      9\u001b[0m \u001b[0mtop\u001b[0m \u001b[1;33m=\u001b[0m  \u001b[0mrow\u001b[0m\u001b[1;33m*\u001b[0m\u001b[0msudoku\u001b[0m\u001b[1;33m.\u001b[0m\u001b[0msize\u001b[0m\u001b[1;33m[\u001b[0m\u001b[1;36m0\u001b[0m\u001b[1;33m]\u001b[0m\u001b[1;33m/\u001b[0m\u001b[1;36m9\u001b[0m\u001b[1;33m\u001b[0m\u001b[1;33m\u001b[0m\u001b[0m\n\u001b[0;32m     10\u001b[0m \u001b[1;33m\u001b[0m\u001b[0m\n",
      "\u001b[1;31mNameError\u001b[0m: name 'sudoku' is not defined"
     ]
    }
   ],
   "source": [
    "pad = 0\n",
    "pad2 = 2\n",
    "\n",
    "\n",
    "row = 7\n",
    "col = 1\n",
    "\n",
    "left = col*sudoku.size[0]/9\n",
    "top =  row*sudoku.size[0]/9\n",
    "\n",
    "right = (col+1)*sudoku.size[0]/9\n",
    "bottom = (row+1)*sudoku.size[0]/9\n",
    "\n",
    "#image = sudoku.crop((left+pad, top+pad, right-pad, bottom-pad))\n",
    "image = sudoku.crop((left, top, right, bottom))\n",
    "image = image.resize((28,28))\n",
    "image = ImageOps.grayscale(image)\n",
    "\n",
    "display(image)\n"
   ]
  },
  {
   "cell_type": "code",
   "execution_count": null,
   "metadata": {
    "scrolled": true
   },
   "outputs": [],
   "source": [
    "\n",
    "image2 = np.reshape(image2, (1,28,28,1))\n",
    "np.argmax(model.predict(image2))"
   ]
  },
  {
   "cell_type": "code",
   "execution_count": null,
   "metadata": {
    "scrolled": true
   },
   "outputs": [],
   "source": [
    "sudoku_file = \"sudoku10\"\n",
    "sudoku_sol = get_sudoku_digits(sudoku_file + \".png\", show_image=0)\n",
    "#get_acc(sudoku_file  + \"_sol.csv\", sudoku_sol)"
   ]
  },
  {
   "cell_type": "code",
   "execution_count": 15,
   "metadata": {
    "scrolled": false
   },
   "outputs": [
    {
     "data": {
      "text/plain": [
       "array([[0., 0., 0., 0., 5., 0., 0., 0., 4.],\n",
       "       [0., 0., 0., 4., 2., 0., 9., 0., 0.],\n",
       "       [0., 5., 0., 0., 0., 7., 0., 0., 8.],\n",
       "       [0., 0., 5., 1., 0., 0., 8., 0., 7.],\n",
       "       [1., 0., 2., 8., 7., 5., 4., 0., 6.],\n",
       "       [7., 0., 8., 0., 0., 9., 5., 0., 0.],\n",
       "       [9., 0., 0., 7., 0., 0., 0., 4., 0.],\n",
       "       [0., 0., 7., 0., 3., 4., 0., 0., 0.],\n",
       "       [4., 0., 0., 0., 8., 0., 0., 0., 0.]])"
      ]
     },
     "execution_count": 15,
     "metadata": {},
     "output_type": "execute_result"
    }
   ],
   "source": [
    "sudoku_file = \"sudoku11\"\n",
    "sudoku_sol = get_sudoku_digits(sudoku_file + \".png\", show_image=0)\n",
    "sudoku_sol"
   ]
  },
  {
   "cell_type": "code",
   "execution_count": 16,
   "metadata": {},
   "outputs": [],
   "source": [
    "pd.DataFrame(sudoku_sol).to_csv(\"sudoku11.csv\")"
   ]
  },
  {
   "cell_type": "code",
   "execution_count": null,
   "metadata": {},
   "outputs": [],
   "source": [
    "# DEBUG\n",
    "image_np = np.asarray(image)\n",
    "ret,thresh_inv = cv2.threshold(image_np, 180, 255,cv2.THRESH_BINARY_INV)\n",
    "#isplay(Image.fromarray(np.uint8(thresh_inv)))\n",
    "contours,hierarchy = cv2.findContours(thresh_inv, cv2.RETR_TREE, cv2.CHAIN_APPROX_SIMPLE)\n",
    "show(thresh_inv)\n",
    "\n"
   ]
  },
  {
   "cell_type": "code",
   "execution_count": null,
   "metadata": {},
   "outputs": [],
   "source": [
    "# DEBUG\n",
    "img1 = np.zeros((1,1))\n",
    "pos = []\n",
    "if len(contours) == 0:\n",
    "    img1 = zero_img1.copy()\n",
    "for c in contours:\n",
    "    x,y,w,h = cv2.boundingRect(c)\n",
    "    if (w < 23 and x > 2 and x<24) and (h < 25 and y > 2 and y<24):#multiplied each number by 9 due to the resized image\n",
    "    #pos = (x,y,x+w,y+h)\n",
    "        pos.append((x,y,x+w,y+h))\n",
    "        img1 = thresh_inv[(pos[0][1]):(pos[0][3]),(pos[0][0]):(pos[0][2])]\n",
    "        break\n",
    "    else:\n",
    "        img1 = zero_img1.copy()"
   ]
  },
  {
   "cell_type": "code",
   "execution_count": null,
   "metadata": {},
   "outputs": [],
   "source": [
    "# DEBUG\n",
    "rows,cols = img1.shape\n",
    "#print(rows, cols)\n",
    "\n",
    "if rows > cols:\n",
    "    factor = 20.0/rows\n",
    "    rows = 20\n",
    "    cols = int(round(cols*factor))\n",
    "    img1 = cv2.resize(img1, (cols,rows))\n",
    "else:\n",
    "    factor = 20.0/cols\n",
    "    cols = 20\n",
    "    rows = int(round(rows*factor))\n",
    "    img1 = cv2.resize(img1, (cols, rows))\n",
    "#print(gray.shape)\n",
    "\n",
    "colsPadding = (int(math.ceil((28-cols)/2.0)),int(math.floor((28-cols)/2.0)))\n",
    "rowsPadding = (int(math.ceil((28-rows)/2.0)),int(math.floor((28-rows)/2.0)))\n",
    "img1 = np.lib.pad(img1,(rowsPadding,colsPadding),'constant')\n",
    "\n",
    "\n",
    "if shift_1_0 == 1:\n",
    "    shiftx,shifty = getBestShift(img1)\n",
    "    shifted = shift(img1,shiftx,shifty)\n",
    "    img1 = shifted"
   ]
  },
  {
   "cell_type": "code",
   "execution_count": null,
   "metadata": {
    "scrolled": false
   },
   "outputs": [],
   "source": [
    "\n",
    "def sudoku_impute(sudoku, sudoku_sol):\n",
    "    sudoku_out = sudoku.copy()\n",
    "\n",
    "\n",
    "    color = 150\n",
    "    font_type = 'C:\\\\Windows\\\\Fonts\\\\calibri.ttf'\n",
    "    size = int((sudoku_out.size[0]/9) - (sudoku_out.size[0]/9)/5)\n",
    "\n",
    "    font = ImageFont.truetype(font_type, size)\n",
    "    draw = ImageDraw.Draw(sudoku_out)\n",
    "\n",
    "    for row in range(9):\n",
    "        for col in range(9):\n",
    "            #print(sudoku_sol[row,col])\n",
    "            x = (sudoku_out.size[0]/9)*col + (sudoku_out.size[0]/9)/4\n",
    "            y = (sudoku_out.size[0]/9)*row + (sudoku_out.size[0]/9)/4\n",
    "\n",
    "            if sudoku_sol[row,col] == 0:\n",
    "                #print(\"Y\")\n",
    "                target = arr[row,col]\n",
    "                draw.text((x, y), str(target), color, font=font)\n",
    "    return(sudoku_out)"
   ]
  },
  {
   "cell_type": "code",
   "execution_count": 202,
   "metadata": {
    "scrolled": false
   },
   "outputs": [
    {
     "data": {
      "image/png": "[encoded data removed]",
      "text/plain": [
       "<PIL.GifImagePlugin.GifImageFile image mode=P size=445x443 at 0x257978451D0>"
      ]
     },
     "execution_count": 202,
     "metadata": {},
     "output_type": "execute_result"
    }
   ],
   "source": [
    "sudoku_file = \"sudoku11.png\"\n",
    "sudoku = Image.open(sudoku_file)\n",
    "sudoku\n"
   ]
  },
  {
   "cell_type": "code",
   "execution_count": 210,
   "metadata": {},
   "outputs": [],
   "source": [
    "sudoku_sol = get_sudoku_digits(sudoku_file, show_image=0)"
   ]
  },
  {
   "cell_type": "code",
   "execution_count": 203,
   "metadata": {
    "scrolled": false
   },
   "outputs": [
    {
     "data": {
      "image/png": "[encoded data removed]",
      "text/plain": [
       "<PIL.Image.Image image mode=P size=445x443 at 0x2579779E358>"
      ]
     },
     "execution_count": 203,
     "metadata": {},
     "output_type": "execute_result"
    }
   ],
   "source": [
    "\n",
    "sudoku_solved = sudoku_impute(sudoku, sudoku_sol)\n",
    "sudoku_solved"
   ]
  }
 ],
 "metadata": {
  "kernelspec": {
   "display_name": "Python 3 (ipykernel)",
   "language": "python",
   "name": "python3"
  },
  "language_info": {
   "codemirror_mode": {
    "name": "ipython",
    "version": 3
   },
   "file_extension": ".py",
   "mimetype": "text/x-python",
   "name": "python",
   "nbconvert_exporter": "python",
   "pygments_lexer": "ipython3",
   "version": "3.9.13"
  },
  "toc": {
   "base_numbering": 1,
   "nav_menu": {},
   "number_sections": true,
   "sideBar": true,
   "skip_h1_title": false,
   "title_cell": "Table of Contents",
   "title_sidebar": "Contents",
   "toc_cell": false,
   "toc_position": {},
   "toc_section_display": true,
   "toc_window_display": false
  },
  "varInspector": {
   "cols": {
    "lenName": 16,
    "lenType": 16,
    "lenVar": 40
   },
   "kernels_config": {
    "python": {
     "delete_cmd_postfix": "",
     "delete_cmd_prefix": "del ",
     "library": "var_list.py",
     "varRefreshCmd": "print(var_dic_list())"
    },
    "r": {
     "delete_cmd_postfix": ") ",
     "delete_cmd_prefix": "rm(",
     "library": "var_list.r",
     "varRefreshCmd": "cat(var_dic_list()) "
    }
   },
   "types_to_exclude": [
    "module",
    "function",
    "builtin_function_or_method",
    "instance",
    "_Feature"
   ],
   "window_display": false
  }
 },
 "nbformat": 4,
 "nbformat_minor": 2
}
